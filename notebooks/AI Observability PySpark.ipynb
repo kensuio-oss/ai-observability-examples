{
 "cells": [
  {
   "cell_type": "code",
   "execution_count": 28,
   "id": "funny-gateway",
   "metadata": {},
   "outputs": [],
   "source": [
    "df = spark.read.format(\"jdbc\") \\\n",
    "                .option(\"url\", \"jdbc:mysql://\"+os.environ[\"DB_CONNECTION_URL\"]+\"/?serverTimezone=UTC\") \\\n",
    "                .option(\"driver\", \"com.mysql.jdbc.Driver\") \\\n",
    "                .option(\"dbtable\", \"demodb.customers\") \\\n",
    "                .option(\"user\", os.environ[\"DB_USER\"]).option(\"password\", os.environ[\"DB_PASSWORD\"]) \\\n",
    "                .load()"
   ]
  },
  {
   "cell_type": "code",
   "execution_count": 29,
   "id": "verified-intention",
   "metadata": {},
   "outputs": [],
   "source": [
    "df.createOrReplaceTempView('df')"
   ]
  },
  {
   "cell_type": "code",
   "execution_count": 30,
   "id": "selective-consideration",
   "metadata": {},
   "outputs": [],
   "source": [
    "graduated_and_predictions = sql.sql(sqlQuery='SELECT Date_record,Loan_ID,\\\n",
    "                                predict FROM df WHERE Education_Not_Graduate == 0')"
   ]
  },
  {
   "cell_type": "code",
   "execution_count": 31,
   "id": "selected-melissa",
   "metadata": {},
   "outputs": [
    {
     "name": "stdout",
     "output_type": "stream",
     "text": [
      "+-----------+---------+-------+\n",
      "|Date_record|  Loan_ID|predict|\n",
      "+-----------+---------+-------+\n",
      "| 2019-12-31|LPP003672|      1|\n",
      "| 2019-12-31|LPP003674|      0|\n",
      "| 2019-12-31|LPP003675|      1|\n",
      "| 2019-12-31|LPP003677|      1|\n",
      "| 2019-12-31|LPP003679|      1|\n",
      "| 2019-12-31|LPP003680|      0|\n",
      "| 2019-12-31|LPP003681|      0|\n",
      "| 2019-12-31|LPP003682|      1|\n",
      "| 2019-12-31|LPP003683|      0|\n",
      "| 2019-12-31|LPP003685|      1|\n",
      "| 2019-12-31|LPP003686|      1|\n",
      "| 2019-12-31|LPP003687|      0|\n",
      "| 2019-12-31|LPP003688|      1|\n",
      "| 2019-12-31|LPP003689|      1|\n",
      "| 2019-12-31|LPP003690|      1|\n",
      "| 2019-12-31|LPP003692|      1|\n",
      "| 2019-12-31|LPP003693|      1|\n",
      "| 2019-12-31|LPP003694|      0|\n",
      "| 2019-12-31|LPP003695|      1|\n",
      "| 2019-12-31|LPP003696|      1|\n",
      "+-----------+---------+-------+\n",
      "only showing top 20 rows\n",
      "\n"
     ]
    }
   ],
   "source": [
    "graduated_and_predictions.show()"
   ]
  },
  {
   "cell_type": "code",
   "execution_count": 32,
   "id": "annoying-baseball",
   "metadata": {},
   "outputs": [
    {
     "name": "stdout",
     "output_type": "stream",
     "text": [
      "DAM: in patched DataFrame.write, marking DataFrame as cached\n",
      "DAM: in patched DataFrame.write, returning result\n"
     ]
    }
   ],
   "source": [
    "graduated_and_predictions.write.mode('append').format(\"jdbc\") \\\n",
    "                            .option(\"url\", \"jdbc:mysql://\"+os.environ[\"DB_CONNECTION_URL\"]+\"/?serverTimezone=UTC\") \\\n",
    "                            .option(\"dbtable\", \"demodb.graduated\") \\\n",
    "                            .option(\"user\", os.environ[\"DB_USER\"]).option(\"password\", os.environ[\"DB_PASSWORD\"]) \\\n",
    "                            .save()"
   ]
  },
  {
   "cell_type": "markdown",
   "id": "lightweight-avenue",
   "metadata": {},
   "source": [
    "# Looking at logs"
   ]
  },
  {
   "cell_type": "code",
   "execution_count": 33,
   "id": "parallel-rebound",
   "metadata": {},
   "outputs": [],
   "source": [
    "logs = read_pyspark_logs()"
   ]
  },
  {
   "cell_type": "code",
   "execution_count": 34,
   "id": "nominated-beijing",
   "metadata": {},
   "outputs": [
    {
     "data": {
      "text/plain": [
       "[{'action': 'add_entity',\n",
       "  'entity': 'BATCH_ENTITY_REPORT',\n",
       "  'generatedEntityGUID': 'a02101ea-957b-4c58-a193-27670be2e6d0',\n",
       "  'schemaVersion': '0.1',\n",
       "  'jsonPayload': {'projects': [{'timestamp': 1616628349031,\n",
       "     'entity': {'pk': {'name': 'AI Observability Meetup'}}}],\n",
       "   'processes': [{'timestamp': 1616628349049,\n",
       "     'entity': {'pk': {'qualifiedName': 'notebooks/AI Observability PySpark.ipynb'}}}],\n",
       "   'processRuns': [{'timestamp': 1616628349237,\n",
       "     'entity': {'pk': {'processRef': {'byGUID': 'k-98fe8f5eb931e62ea00d1ce53797b62b7741cf02277c58828baee6afa27271a5'},\n",
       "       'qualifiedName': 'local-1616628210771'},\n",
       "      'launchedByUserRef': {'byGUID': 'k-bea8aa69af5be716c580fa2d2d63b0964bdb89f74d484319728aeb16add844e9'},\n",
       "      'executedCodeVersionRef': {'byGUID': 'k-578c1fc62671c14a89b6e061f1a681fa1bd563565d0e05ca0451461b5c59f1c2'},\n",
       "      'environment': 'Lab',\n",
       "      'projectsRefs': [{'byGUID': 'k-5ea877c962287021c2319b333362fac7f507c948a81c9679c054a00d685e4103'}]}}],\n",
       "   'processLineages': [{'timestamp': 1616628349296,\n",
       "     'entity': {'name': 'Generate `schema::mysql-kensu-demo.usnek.com:3306/demodb.graduated` from `schema::mysql-kensu-demo.usnek.com:3306/demodb.customers`',\n",
       "      'operationLogic': 'APPEND',\n",
       "      'pk': {'processRef': {'byGUID': 'k-98fe8f5eb931e62ea00d1ce53797b62b7741cf02277c58828baee6afa27271a5'},\n",
       "       'dataFlow': [{'fromSchemaRef': {'byGUID': 'k-2c737ac3b26450791044e5ef1af4e94e6475bba000492c7c9a21fd5cb147f170'},\n",
       "         'toSchemaRef': {'byGUID': 'k-3ca0a8edcf98a10849dc3dcbc7cae05e87ed0ad589677edec88378dd82840237'},\n",
       "         'columnDataDependencies': {'Date_record': ['Date_record'],\n",
       "          'predict': ['predict'],\n",
       "          'Loan_ID': ['Loan_ID']},\n",
       "         'columnControlDependencies': {'Date_record': ['Education_Not_Graduate'],\n",
       "          'predict': ['Education_Not_Graduate'],\n",
       "          'Loan_ID': ['Education_Not_Graduate']}}]}}}],\n",
       "   'lineageRuns': [{'timestamp': 1616628349301,\n",
       "     'entity': {'pk': {'processRunRef': {'byGUID': 'k-c55f1a67dc568ddc877df78a210df10de1a53d05fe1a030ad423c50fec920880'},\n",
       "       'lineageRef': {'byGUID': 'k-bf89b4cf00389281a95d6fc15ae663caee8f3eb74b51756a53df45a968a24793'},\n",
       "       'timestamp': 1616628349298}}}],\n",
       "   'schemas': [{'timestamp': 1616628349232,\n",
       "     'entity': {'name': 'schema::mysql-kensu-demo.usnek.com:3306/demodb.graduated',\n",
       "      'pk': {'dataSourceRef': {'byGUID': 'k-981bf9c50b02272ac666ab49edf81336ca6982a75e0634c9b3bcaf17e404ba05'},\n",
       "       'fields': [{'name': 'Date_record',\n",
       "         'fieldType': 'date',\n",
       "         'nullable': True},\n",
       "        {'name': 'Loan_ID', 'fieldType': 'string', 'nullable': True},\n",
       "        {'name': 'predict', 'fieldType': 'integer', 'nullable': True}]}}},\n",
       "    {'timestamp': 1616628349227,\n",
       "     'entity': {'name': 'schema::mysql-kensu-demo.usnek.com:3306/demodb.customers',\n",
       "      'pk': {'dataSourceRef': {'byGUID': 'k-ec95f1f7c47a10ca23edc52dc6a3909cec5d2d00160f05baf1a31e1c97602eeb'},\n",
       "       'fields': [{'name': 'Date_record',\n",
       "         'fieldType': 'date',\n",
       "         'nullable': True},\n",
       "        {'name': 'Loan_ID', 'fieldType': 'string', 'nullable': True},\n",
       "        {'name': 'LoanAmount', 'fieldType': 'integer', 'nullable': True},\n",
       "        {'name': 'Loan_Amount_Term', 'fieldType': 'integer', 'nullable': True},\n",
       "        {'name': 'Credit_History', 'fieldType': 'integer', 'nullable': True},\n",
       "        {'name': 'ApplicantIncome', 'fieldType': 'integer', 'nullable': True},\n",
       "        {'name': 'CoapplicantIncome',\n",
       "         'fieldType': 'integer',\n",
       "         'nullable': True},\n",
       "        {'name': 'Married_Yes', 'fieldType': 'integer', 'nullable': True},\n",
       "        {'name': 'Dependents_1', 'fieldType': 'integer', 'nullable': True},\n",
       "        {'name': 'Dependents_2', 'fieldType': 'integer', 'nullable': True},\n",
       "        {'name': 'Dependents_3', 'fieldType': 'integer', 'nullable': True},\n",
       "        {'name': 'Education_Not_Graduate',\n",
       "         'fieldType': 'integer',\n",
       "         'nullable': True},\n",
       "        {'name': 'Self_Employed_Yes',\n",
       "         'fieldType': 'integer',\n",
       "         'nullable': True},\n",
       "        {'name': 'Property_Area_Semiurban',\n",
       "         'fieldType': 'integer',\n",
       "         'nullable': True},\n",
       "        {'name': 'Property_Area_Urban',\n",
       "         'fieldType': 'integer',\n",
       "         'nullable': True},\n",
       "        {'name': 'predict', 'fieldType': 'integer', 'nullable': True},\n",
       "        {'name': 'p0', 'fieldType': 'double', 'nullable': True},\n",
       "        {'name': 'p1', 'fieldType': 'double', 'nullable': True}]}}}],\n",
       "   'physicalLocations': [{'timestamp': 1616628349033,\n",
       "     'entity': {'name': 'unknown',\n",
       "      'lat': 123456789.12345679,\n",
       "      'lon': 123456789.12345679,\n",
       "      'pk': {'city': 'unknown', 'country': 'unknown'}}}],\n",
       "   'dataSources': [{'timestamp': 1616628349229,\n",
       "     'entity': {'name': 'mysql-kensu-demo.usnek.com:3306/demodb.graduated',\n",
       "      'format': 'mysql',\n",
       "      'categories': ['logical::demodb.graduated'],\n",
       "      'pk': {'location': 'mysql://mysql-kensu-demo.usnek.com:3306/demodb.graduated',\n",
       "       'physicalLocationRef': {'byGUID': 'k-d2f40e99e5dd4c9fc9c634b15a7fb03073191c0158e52a572769df8c05f59b7b'}}}},\n",
       "    {'timestamp': 1616628349225,\n",
       "     'entity': {'name': 'mysql-kensu-demo.usnek.com:3306/demodb.customers',\n",
       "      'format': 'mysql',\n",
       "      'categories': ['logical::demodb.customers'],\n",
       "      'pk': {'location': 'mysql://mysql-kensu-demo.usnek.com:3306/demodb.customers',\n",
       "       'physicalLocationRef': {'byGUID': 'k-d2f40e99e5dd4c9fc9c634b15a7fb03073191c0158e52a572769df8c05f59b7b'}}}}],\n",
       "   'codeVersions': [{'timestamp': 1616628349029,\n",
       "     'entity': {'pk': {'version': '7f48bde20d2875a870d8ddb6457ebcd864d506a1',\n",
       "       'codebaseRef': {'byGUID': 'k-b090e4f29911dbe432d2661e6c7e3e0a1c1f1f8c3104434d27f30195b01c3845'}},\n",
       "      'maintainersRefs': [{'byGUID': 'k-bea8aa69af5be716c580fa2d2d63b0964bdb89f74d484319728aeb16add844e9'}]}}],\n",
       "   'codeBases': [{'timestamp': 1616628349024,\n",
       "     'entity': {'pk': {'location': 'git@github.com/kensu/python-examples.git'}}}],\n",
       "   'users': [{'timestamp': 1616628349025, 'entity': {'pk': {'name': 'andy'}}},\n",
       "    {'timestamp': 1616628349023, 'entity': {'pk': {'name': 'andy'}}}]},\n",
       "  'context': {'clientId': '',\n",
       "   'clientEventTimestamp': 1616628349315,\n",
       "   'serverReceivedTimestamp': 1616628349315}},\n",
       " {'action': 'add_entity',\n",
       "  'entity': 'BATCH_ENTITY_REPORT',\n",
       "  'generatedEntityGUID': 'a6940880-9fb3-473b-9988-9623bf45e782',\n",
       "  'schemaVersion': '0.1',\n",
       "  'jsonPayload': {'projects': [{'timestamp': 1616628349031,\n",
       "     'entity': {'pk': {'name': 'AI Observability Meetup'}}}],\n",
       "   'processes': [{'timestamp': 1616628349049,\n",
       "     'entity': {'pk': {'qualifiedName': 'notebooks/AI Observability PySpark.ipynb'}}}],\n",
       "   'processRuns': [{'timestamp': 1616628349237,\n",
       "     'entity': {'pk': {'processRef': {'byGUID': 'k-98fe8f5eb931e62ea00d1ce53797b62b7741cf02277c58828baee6afa27271a5'},\n",
       "       'qualifiedName': 'local-1616628210771'},\n",
       "      'launchedByUserRef': {'byGUID': 'k-bea8aa69af5be716c580fa2d2d63b0964bdb89f74d484319728aeb16add844e9'},\n",
       "      'executedCodeVersionRef': {'byGUID': 'k-578c1fc62671c14a89b6e061f1a681fa1bd563565d0e05ca0451461b5c59f1c2'},\n",
       "      'environment': 'Lab',\n",
       "      'projectsRefs': [{'byGUID': 'k-5ea877c962287021c2319b333362fac7f507c948a81c9679c054a00d685e4103'}]}}],\n",
       "   'processLineages': [{'timestamp': 1616628349296,\n",
       "     'entity': {'name': 'Generate `schema::mysql-kensu-demo.usnek.com:3306/demodb.graduated` from `schema::mysql-kensu-demo.usnek.com:3306/demodb.customers`',\n",
       "      'operationLogic': 'APPEND',\n",
       "      'pk': {'processRef': {'byGUID': 'k-98fe8f5eb931e62ea00d1ce53797b62b7741cf02277c58828baee6afa27271a5'},\n",
       "       'dataFlow': [{'fromSchemaRef': {'byGUID': 'k-2c737ac3b26450791044e5ef1af4e94e6475bba000492c7c9a21fd5cb147f170'},\n",
       "         'toSchemaRef': {'byGUID': 'k-3ca0a8edcf98a10849dc3dcbc7cae05e87ed0ad589677edec88378dd82840237'},\n",
       "         'columnDataDependencies': {'Date_record': ['Date_record'],\n",
       "          'predict': ['predict'],\n",
       "          'Loan_ID': ['Loan_ID']},\n",
       "         'columnControlDependencies': {'Date_record': ['Education_Not_Graduate'],\n",
       "          'predict': ['Education_Not_Graduate'],\n",
       "          'Loan_ID': ['Education_Not_Graduate']}}]}}}],\n",
       "   'lineageRuns': [{'timestamp': 1616628349301,\n",
       "     'entity': {'pk': {'processRunRef': {'byGUID': 'k-c55f1a67dc568ddc877df78a210df10de1a53d05fe1a030ad423c50fec920880'},\n",
       "       'lineageRef': {'byGUID': 'k-bf89b4cf00389281a95d6fc15ae663caee8f3eb74b51756a53df45a968a24793'},\n",
       "       'timestamp': 1616628349298}}}],\n",
       "   'schemas': [{'timestamp': 1616628349232,\n",
       "     'entity': {'name': 'schema::mysql-kensu-demo.usnek.com:3306/demodb.graduated',\n",
       "      'pk': {'dataSourceRef': {'byGUID': 'k-981bf9c50b02272ac666ab49edf81336ca6982a75e0634c9b3bcaf17e404ba05'},\n",
       "       'fields': [{'name': 'Date_record',\n",
       "         'fieldType': 'date',\n",
       "         'nullable': True},\n",
       "        {'name': 'Loan_ID', 'fieldType': 'string', 'nullable': True},\n",
       "        {'name': 'predict', 'fieldType': 'integer', 'nullable': True}]}}},\n",
       "    {'timestamp': 1616628349227,\n",
       "     'entity': {'name': 'schema::mysql-kensu-demo.usnek.com:3306/demodb.customers',\n",
       "      'pk': {'dataSourceRef': {'byGUID': 'k-ec95f1f7c47a10ca23edc52dc6a3909cec5d2d00160f05baf1a31e1c97602eeb'},\n",
       "       'fields': [{'name': 'Date_record',\n",
       "         'fieldType': 'date',\n",
       "         'nullable': True},\n",
       "        {'name': 'Loan_ID', 'fieldType': 'string', 'nullable': True},\n",
       "        {'name': 'LoanAmount', 'fieldType': 'integer', 'nullable': True},\n",
       "        {'name': 'Loan_Amount_Term', 'fieldType': 'integer', 'nullable': True},\n",
       "        {'name': 'Credit_History', 'fieldType': 'integer', 'nullable': True},\n",
       "        {'name': 'ApplicantIncome', 'fieldType': 'integer', 'nullable': True},\n",
       "        {'name': 'CoapplicantIncome',\n",
       "         'fieldType': 'integer',\n",
       "         'nullable': True},\n",
       "        {'name': 'Married_Yes', 'fieldType': 'integer', 'nullable': True},\n",
       "        {'name': 'Dependents_1', 'fieldType': 'integer', 'nullable': True},\n",
       "        {'name': 'Dependents_2', 'fieldType': 'integer', 'nullable': True},\n",
       "        {'name': 'Dependents_3', 'fieldType': 'integer', 'nullable': True},\n",
       "        {'name': 'Education_Not_Graduate',\n",
       "         'fieldType': 'integer',\n",
       "         'nullable': True},\n",
       "        {'name': 'Self_Employed_Yes',\n",
       "         'fieldType': 'integer',\n",
       "         'nullable': True},\n",
       "        {'name': 'Property_Area_Semiurban',\n",
       "         'fieldType': 'integer',\n",
       "         'nullable': True},\n",
       "        {'name': 'Property_Area_Urban',\n",
       "         'fieldType': 'integer',\n",
       "         'nullable': True},\n",
       "        {'name': 'predict', 'fieldType': 'integer', 'nullable': True},\n",
       "        {'name': 'p0', 'fieldType': 'double', 'nullable': True},\n",
       "        {'name': 'p1', 'fieldType': 'double', 'nullable': True}]}}}],\n",
       "   'physicalLocations': [{'timestamp': 1616628349033,\n",
       "     'entity': {'name': 'unknown',\n",
       "      'lat': 123456789.12345679,\n",
       "      'lon': 123456789.12345679,\n",
       "      'pk': {'city': 'unknown', 'country': 'unknown'}}}],\n",
       "   'dataSources': [{'timestamp': 1616628349229,\n",
       "     'entity': {'name': 'mysql-kensu-demo.usnek.com:3306/demodb.graduated',\n",
       "      'format': 'mysql',\n",
       "      'categories': ['logical::demodb.graduated'],\n",
       "      'pk': {'location': 'mysql://mysql-kensu-demo.usnek.com:3306/demodb.graduated',\n",
       "       'physicalLocationRef': {'byGUID': 'k-d2f40e99e5dd4c9fc9c634b15a7fb03073191c0158e52a572769df8c05f59b7b'}}}},\n",
       "    {'timestamp': 1616628349225,\n",
       "     'entity': {'name': 'mysql-kensu-demo.usnek.com:3306/demodb.customers',\n",
       "      'format': 'mysql',\n",
       "      'categories': ['logical::demodb.customers'],\n",
       "      'pk': {'location': 'mysql://mysql-kensu-demo.usnek.com:3306/demodb.customers',\n",
       "       'physicalLocationRef': {'byGUID': 'k-d2f40e99e5dd4c9fc9c634b15a7fb03073191c0158e52a572769df8c05f59b7b'}}}}],\n",
       "   'codeVersions': [{'timestamp': 1616628349029,\n",
       "     'entity': {'pk': {'version': '7f48bde20d2875a870d8ddb6457ebcd864d506a1',\n",
       "       'codebaseRef': {'byGUID': 'k-b090e4f29911dbe432d2661e6c7e3e0a1c1f1f8c3104434d27f30195b01c3845'}},\n",
       "      'maintainersRefs': [{'byGUID': 'k-bea8aa69af5be716c580fa2d2d63b0964bdb89f74d484319728aeb16add844e9'}]}}],\n",
       "   'codeBases': [{'timestamp': 1616628349024,\n",
       "     'entity': {'pk': {'location': 'git@github.com/kensu/python-examples.git'}}}],\n",
       "   'users': [{'timestamp': 1616628349025, 'entity': {'pk': {'name': 'andy'}}},\n",
       "    {'timestamp': 1616628349023, 'entity': {'pk': {'name': 'andy'}}}],\n",
       "   'dataStats': [{'timestamp': 1616628353963,\n",
       "     'entity': {'pk': {'schemaRef': {'byGUID': 'k-3ca0a8edcf98a10849dc3dcbc7cae05e87ed0ad589677edec88378dd82840237'},\n",
       "       'lineageRunRef': {'byGUID': 'k-f6009204ac214429d3e7509a1f158ff79c4b68bb18c75dd45a53480d6623de77'}},\n",
       "      'stats': {'Loan_ID.nullrows': 0.0,\n",
       "       'predict.25%': 1.0,\n",
       "       'predict.median': 1.0,\n",
       "       'predict.75%': 1.0,\n",
       "       'predict.stddev': 0.4218455440114891,\n",
       "       'predict.nrows': 3987.0,\n",
       "       'nrows': 3987.0,\n",
       "       'predict.min': 0.0,\n",
       "       'predict.mean': 0.7684976172560822,\n",
       "       'Loan_ID.nrows': 3987.0,\n",
       "       'predict.nullrows': 0.0,\n",
       "       'predict.max': 1.0}}}]},\n",
       "  'context': {'clientId': '',\n",
       "   'clientEventTimestamp': 1616628354026,\n",
       "   'serverReceivedTimestamp': 1616628354026}}]"
      ]
     },
     "execution_count": 34,
     "metadata": {},
     "output_type": "execute_result"
    }
   ],
   "source": [
    "logs"
   ]
  },
  {
   "cell_type": "code",
   "execution_count": 35,
   "id": "graphic-declaration",
   "metadata": {},
   "outputs": [
    {
     "data": {
      "text/plain": [
       "{'projects': [{'timestamp': 1616628349031,\n",
       "   'entity': {'pk': {'name': 'AI Observability Meetup'}}}],\n",
       " 'processes': [{'timestamp': 1616628349049,\n",
       "   'entity': {'pk': {'qualifiedName': 'notebooks/AI Observability PySpark.ipynb'}}}],\n",
       " 'processRuns': [{'timestamp': 1616628349237,\n",
       "   'entity': {'pk': {'processRef': {'byGUID': 'k-98fe8f5eb931e62ea00d1ce53797b62b7741cf02277c58828baee6afa27271a5'},\n",
       "     'qualifiedName': 'local-1616628210771'},\n",
       "    'launchedByUserRef': {'byGUID': 'k-bea8aa69af5be716c580fa2d2d63b0964bdb89f74d484319728aeb16add844e9'},\n",
       "    'executedCodeVersionRef': {'byGUID': 'k-578c1fc62671c14a89b6e061f1a681fa1bd563565d0e05ca0451461b5c59f1c2'},\n",
       "    'environment': 'Lab',\n",
       "    'projectsRefs': [{'byGUID': 'k-5ea877c962287021c2319b333362fac7f507c948a81c9679c054a00d685e4103'}]}}],\n",
       " 'processLineages': [{'timestamp': 1616628349296,\n",
       "   'entity': {'name': 'Generate `schema::mysql-kensu-demo.usnek.com:3306/demodb.graduated` from `schema::mysql-kensu-demo.usnek.com:3306/demodb.customers`',\n",
       "    'operationLogic': 'APPEND',\n",
       "    'pk': {'processRef': {'byGUID': 'k-98fe8f5eb931e62ea00d1ce53797b62b7741cf02277c58828baee6afa27271a5'},\n",
       "     'dataFlow': [{'fromSchemaRef': {'byGUID': 'k-2c737ac3b26450791044e5ef1af4e94e6475bba000492c7c9a21fd5cb147f170'},\n",
       "       'toSchemaRef': {'byGUID': 'k-3ca0a8edcf98a10849dc3dcbc7cae05e87ed0ad589677edec88378dd82840237'},\n",
       "       'columnDataDependencies': {'Date_record': ['Date_record'],\n",
       "        'predict': ['predict'],\n",
       "        'Loan_ID': ['Loan_ID']},\n",
       "       'columnControlDependencies': {'Date_record': ['Education_Not_Graduate'],\n",
       "        'predict': ['Education_Not_Graduate'],\n",
       "        'Loan_ID': ['Education_Not_Graduate']}}]}}}],\n",
       " 'lineageRuns': [{'timestamp': 1616628349301,\n",
       "   'entity': {'pk': {'processRunRef': {'byGUID': 'k-c55f1a67dc568ddc877df78a210df10de1a53d05fe1a030ad423c50fec920880'},\n",
       "     'lineageRef': {'byGUID': 'k-bf89b4cf00389281a95d6fc15ae663caee8f3eb74b51756a53df45a968a24793'},\n",
       "     'timestamp': 1616628349298}}}],\n",
       " 'schemas': [{'timestamp': 1616628349232,\n",
       "   'entity': {'name': 'schema::mysql-kensu-demo.usnek.com:3306/demodb.graduated',\n",
       "    'pk': {'dataSourceRef': {'byGUID': 'k-981bf9c50b02272ac666ab49edf81336ca6982a75e0634c9b3bcaf17e404ba05'},\n",
       "     'fields': [{'name': 'Date_record', 'fieldType': 'date', 'nullable': True},\n",
       "      {'name': 'Loan_ID', 'fieldType': 'string', 'nullable': True},\n",
       "      {'name': 'predict', 'fieldType': 'integer', 'nullable': True}]}}},\n",
       "  {'timestamp': 1616628349227,\n",
       "   'entity': {'name': 'schema::mysql-kensu-demo.usnek.com:3306/demodb.customers',\n",
       "    'pk': {'dataSourceRef': {'byGUID': 'k-ec95f1f7c47a10ca23edc52dc6a3909cec5d2d00160f05baf1a31e1c97602eeb'},\n",
       "     'fields': [{'name': 'Date_record', 'fieldType': 'date', 'nullable': True},\n",
       "      {'name': 'Loan_ID', 'fieldType': 'string', 'nullable': True},\n",
       "      {'name': 'LoanAmount', 'fieldType': 'integer', 'nullable': True},\n",
       "      {'name': 'Loan_Amount_Term', 'fieldType': 'integer', 'nullable': True},\n",
       "      {'name': 'Credit_History', 'fieldType': 'integer', 'nullable': True},\n",
       "      {'name': 'ApplicantIncome', 'fieldType': 'integer', 'nullable': True},\n",
       "      {'name': 'CoapplicantIncome', 'fieldType': 'integer', 'nullable': True},\n",
       "      {'name': 'Married_Yes', 'fieldType': 'integer', 'nullable': True},\n",
       "      {'name': 'Dependents_1', 'fieldType': 'integer', 'nullable': True},\n",
       "      {'name': 'Dependents_2', 'fieldType': 'integer', 'nullable': True},\n",
       "      {'name': 'Dependents_3', 'fieldType': 'integer', 'nullable': True},\n",
       "      {'name': 'Education_Not_Graduate',\n",
       "       'fieldType': 'integer',\n",
       "       'nullable': True},\n",
       "      {'name': 'Self_Employed_Yes', 'fieldType': 'integer', 'nullable': True},\n",
       "      {'name': 'Property_Area_Semiurban',\n",
       "       'fieldType': 'integer',\n",
       "       'nullable': True},\n",
       "      {'name': 'Property_Area_Urban',\n",
       "       'fieldType': 'integer',\n",
       "       'nullable': True},\n",
       "      {'name': 'predict', 'fieldType': 'integer', 'nullable': True},\n",
       "      {'name': 'p0', 'fieldType': 'double', 'nullable': True},\n",
       "      {'name': 'p1', 'fieldType': 'double', 'nullable': True}]}}}],\n",
       " 'physicalLocations': [{'timestamp': 1616628349033,\n",
       "   'entity': {'name': 'unknown',\n",
       "    'lat': 123456789.12345679,\n",
       "    'lon': 123456789.12345679,\n",
       "    'pk': {'city': 'unknown', 'country': 'unknown'}}}],\n",
       " 'dataSources': [{'timestamp': 1616628349229,\n",
       "   'entity': {'name': 'mysql-kensu-demo.usnek.com:3306/demodb.graduated',\n",
       "    'format': 'mysql',\n",
       "    'categories': ['logical::demodb.graduated'],\n",
       "    'pk': {'location': 'mysql://mysql-kensu-demo.usnek.com:3306/demodb.graduated',\n",
       "     'physicalLocationRef': {'byGUID': 'k-d2f40e99e5dd4c9fc9c634b15a7fb03073191c0158e52a572769df8c05f59b7b'}}}},\n",
       "  {'timestamp': 1616628349225,\n",
       "   'entity': {'name': 'mysql-kensu-demo.usnek.com:3306/demodb.customers',\n",
       "    'format': 'mysql',\n",
       "    'categories': ['logical::demodb.customers'],\n",
       "    'pk': {'location': 'mysql://mysql-kensu-demo.usnek.com:3306/demodb.customers',\n",
       "     'physicalLocationRef': {'byGUID': 'k-d2f40e99e5dd4c9fc9c634b15a7fb03073191c0158e52a572769df8c05f59b7b'}}}}],\n",
       " 'codeVersions': [{'timestamp': 1616628349029,\n",
       "   'entity': {'pk': {'version': '7f48bde20d2875a870d8ddb6457ebcd864d506a1',\n",
       "     'codebaseRef': {'byGUID': 'k-b090e4f29911dbe432d2661e6c7e3e0a1c1f1f8c3104434d27f30195b01c3845'}},\n",
       "    'maintainersRefs': [{'byGUID': 'k-bea8aa69af5be716c580fa2d2d63b0964bdb89f74d484319728aeb16add844e9'}]}}],\n",
       " 'codeBases': [{'timestamp': 1616628349024,\n",
       "   'entity': {'pk': {'location': 'git@github.com/kensu/python-examples.git'}}}],\n",
       " 'users': [{'timestamp': 1616628349025, 'entity': {'pk': {'name': 'andy'}}},\n",
       "  {'timestamp': 1616628349023, 'entity': {'pk': {'name': 'andy'}}}]}"
      ]
     },
     "execution_count": 35,
     "metadata": {},
     "output_type": "execute_result"
    }
   ],
   "source": [
    "logs[0]['jsonPayload']"
   ]
  },
  {
   "cell_type": "code",
   "execution_count": 36,
   "id": "photographic-cartridge",
   "metadata": {},
   "outputs": [
    {
     "data": {
      "text/plain": [
       "[{'timestamp': 1616628349049,\n",
       "  'entity': {'pk': {'qualifiedName': 'notebooks/AI Observability PySpark.ipynb'}}}]"
      ]
     },
     "execution_count": 36,
     "metadata": {},
     "output_type": "execute_result"
    }
   ],
   "source": [
    "logs[0]['jsonPayload'][\"processes\"]"
   ]
  },
  {
   "cell_type": "code",
   "execution_count": 37,
   "id": "incorrect-roots",
   "metadata": {},
   "outputs": [
    {
     "data": {
      "text/plain": [
       "[{'timestamp': 1616628349024,\n",
       "  'entity': {'pk': {'location': 'git@github.com/kensu/python-examples.git'}}}]"
      ]
     },
     "execution_count": 37,
     "metadata": {},
     "output_type": "execute_result"
    }
   ],
   "source": [
    "logs[0]['jsonPayload'][\"codeBases\"]"
   ]
  },
  {
   "cell_type": "code",
   "execution_count": 38,
   "id": "chief-sherman",
   "metadata": {},
   "outputs": [
    {
     "data": {
      "text/plain": [
       "[{'timestamp': 1616628349025, 'entity': {'pk': {'name': 'andy'}}},\n",
       " {'timestamp': 1616628349023, 'entity': {'pk': {'name': 'andy'}}}]"
      ]
     },
     "execution_count": 38,
     "metadata": {},
     "output_type": "execute_result"
    }
   ],
   "source": [
    "logs[0]['jsonPayload'][\"users\"]"
   ]
  },
  {
   "cell_type": "code",
   "execution_count": 39,
   "id": "damaged-reynolds",
   "metadata": {},
   "outputs": [
    {
     "data": {
      "text/plain": [
       "[{'timestamp': 1616628349229,\n",
       "  'entity': {'name': 'mysql-kensu-demo.usnek.com:3306/demodb.graduated',\n",
       "   'format': 'mysql',\n",
       "   'categories': ['logical::demodb.graduated'],\n",
       "   'pk': {'location': 'mysql://mysql-kensu-demo.usnek.com:3306/demodb.graduated',\n",
       "    'physicalLocationRef': {'byGUID': 'k-d2f40e99e5dd4c9fc9c634b15a7fb03073191c0158e52a572769df8c05f59b7b'}}}},\n",
       " {'timestamp': 1616628349225,\n",
       "  'entity': {'name': 'mysql-kensu-demo.usnek.com:3306/demodb.customers',\n",
       "   'format': 'mysql',\n",
       "   'categories': ['logical::demodb.customers'],\n",
       "   'pk': {'location': 'mysql://mysql-kensu-demo.usnek.com:3306/demodb.customers',\n",
       "    'physicalLocationRef': {'byGUID': 'k-d2f40e99e5dd4c9fc9c634b15a7fb03073191c0158e52a572769df8c05f59b7b'}}}}]"
      ]
     },
     "execution_count": 39,
     "metadata": {},
     "output_type": "execute_result"
    }
   ],
   "source": [
    "logs[0]['jsonPayload'][\"dataSources\"]"
   ]
  },
  {
   "cell_type": "code",
   "execution_count": 40,
   "id": "valuable-benefit",
   "metadata": {},
   "outputs": [
    {
     "data": {
      "text/plain": [
       "{'timestamp': 1616628349232,\n",
       " 'entity': {'name': 'schema::mysql-kensu-demo.usnek.com:3306/demodb.graduated',\n",
       "  'pk': {'dataSourceRef': {'byGUID': 'k-981bf9c50b02272ac666ab49edf81336ca6982a75e0634c9b3bcaf17e404ba05'},\n",
       "   'fields': [{'name': 'Date_record', 'fieldType': 'date', 'nullable': True},\n",
       "    {'name': 'Loan_ID', 'fieldType': 'string', 'nullable': True},\n",
       "    {'name': 'predict', 'fieldType': 'integer', 'nullable': True}]}}}"
      ]
     },
     "execution_count": 40,
     "metadata": {},
     "output_type": "execute_result"
    }
   ],
   "source": [
    "logs[0]['jsonPayload'][\"schemas\"][0]"
   ]
  },
  {
   "cell_type": "code",
   "execution_count": 41,
   "id": "alien-robinson",
   "metadata": {},
   "outputs": [
    {
     "data": {
      "text/plain": [
       "[{'timestamp': 1616628349296,\n",
       "  'entity': {'name': 'Generate `schema::mysql-kensu-demo.usnek.com:3306/demodb.graduated` from `schema::mysql-kensu-demo.usnek.com:3306/demodb.customers`',\n",
       "   'operationLogic': 'APPEND',\n",
       "   'pk': {'processRef': {'byGUID': 'k-98fe8f5eb931e62ea00d1ce53797b62b7741cf02277c58828baee6afa27271a5'},\n",
       "    'dataFlow': [{'fromSchemaRef': {'byGUID': 'k-2c737ac3b26450791044e5ef1af4e94e6475bba000492c7c9a21fd5cb147f170'},\n",
       "      'toSchemaRef': {'byGUID': 'k-3ca0a8edcf98a10849dc3dcbc7cae05e87ed0ad589677edec88378dd82840237'},\n",
       "      'columnDataDependencies': {'Date_record': ['Date_record'],\n",
       "       'predict': ['predict'],\n",
       "       'Loan_ID': ['Loan_ID']},\n",
       "      'columnControlDependencies': {'Date_record': ['Education_Not_Graduate'],\n",
       "       'predict': ['Education_Not_Graduate'],\n",
       "       'Loan_ID': ['Education_Not_Graduate']}}]}}}]"
      ]
     },
     "execution_count": 41,
     "metadata": {},
     "output_type": "execute_result"
    }
   ],
   "source": [
    "logs[0]['jsonPayload'][\"processLineages\"]"
   ]
  },
  {
   "cell_type": "code",
   "execution_count": 42,
   "id": "august-trouble",
   "metadata": {},
   "outputs": [
    {
     "data": {
      "text/plain": [
       "{'Date_record': ['Date_record'],\n",
       " 'predict': ['predict'],\n",
       " 'Loan_ID': ['Loan_ID']}"
      ]
     },
     "execution_count": 42,
     "metadata": {},
     "output_type": "execute_result"
    }
   ],
   "source": [
    "logs[0]['jsonPayload'][\"processLineages\"][0][\"entity\"][\"pk\"][\"dataFlow\"][0][\"columnDataDependencies\"]"
   ]
  },
  {
   "cell_type": "code",
   "execution_count": 43,
   "id": "incorporate-bracket",
   "metadata": {},
   "outputs": [
    {
     "data": {
      "text/plain": [
       "{'Date_record': ['Education_Not_Graduate'],\n",
       " 'predict': ['Education_Not_Graduate'],\n",
       " 'Loan_ID': ['Education_Not_Graduate']}"
      ]
     },
     "execution_count": 43,
     "metadata": {},
     "output_type": "execute_result"
    }
   ],
   "source": [
    "logs[0]['jsonPayload'][\"processLineages\"][0][\"entity\"][\"pk\"][\"dataFlow\"][0][\"columnControlDependencies\"]"
   ]
  },
  {
   "cell_type": "code",
   "execution_count": 44,
   "id": "mobile-cornwall",
   "metadata": {},
   "outputs": [
    {
     "data": {
      "text/plain": [
       "[{'timestamp': 1616628353963,\n",
       "  'entity': {'pk': {'schemaRef': {'byGUID': 'k-3ca0a8edcf98a10849dc3dcbc7cae05e87ed0ad589677edec88378dd82840237'},\n",
       "    'lineageRunRef': {'byGUID': 'k-f6009204ac214429d3e7509a1f158ff79c4b68bb18c75dd45a53480d6623de77'}},\n",
       "   'stats': {'Loan_ID.nullrows': 0.0,\n",
       "    'predict.25%': 1.0,\n",
       "    'predict.median': 1.0,\n",
       "    'predict.75%': 1.0,\n",
       "    'predict.stddev': 0.4218455440114891,\n",
       "    'predict.nrows': 3987.0,\n",
       "    'nrows': 3987.0,\n",
       "    'predict.min': 0.0,\n",
       "    'predict.mean': 0.7684976172560822,\n",
       "    'Loan_ID.nrows': 3987.0,\n",
       "    'predict.nullrows': 0.0,\n",
       "    'predict.max': 1.0}}}]"
      ]
     },
     "execution_count": 44,
     "metadata": {},
     "output_type": "execute_result"
    }
   ],
   "source": [
    "logs[1]['jsonPayload'][\"dataStats\"]"
   ]
  },
  {
   "cell_type": "markdown",
   "id": "meaning-crash",
   "metadata": {},
   "source": [
    "# Strategy"
   ]
  },
  {
   "cell_type": "markdown",
   "id": "rising-performer",
   "metadata": {},
   "source": [
    "* Event interception: \n",
    "    * https://github.com/kensuio/dam-spline-persistence/blob/33e1b1d50cae82bd996c2bbc46927bdeace7b1ee/src/main/scala/io/kensu/third/integration/spline/utils/spline/DamQueryExecutionEventHandler.scala#L45\n",
    "    * https://github.com/kensuio/dam-spline-persistence/blob/develop/src/main/scala/DAMDataLineageWriter.scala#L250\n",
    "* ASM: https://github.com/kensuio/dam-spline-persistence/blob/develop/src/main/scala/dam-spark-mlib-interceptor/DamModelPublisher.scala#L62"
   ]
  }
 ],
 "metadata": {
  "kernelspec": {
   "display_name": "Python 3",
   "language": "python",
   "name": "python3"
  },
  "language_info": {
   "codemirror_mode": {
    "name": "ipython",
    "version": 3
   },
   "file_extension": ".py",
   "mimetype": "text/x-python",
   "name": "python",
   "nbconvert_exporter": "python",
   "pygments_lexer": "ipython3",
   "version": "3.7.10"
  }
 },
 "nbformat": 4,
 "nbformat_minor": 5
}
