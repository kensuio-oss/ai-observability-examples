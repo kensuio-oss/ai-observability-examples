{
 "cells": [
  {
   "cell_type": "code",
   "execution_count": 1,
   "id": "polished-advancement",
   "metadata": {},
   "outputs": [],
   "source": [
    "import numpy as np"
   ]
  },
  {
   "cell_type": "code",
   "execution_count": 3,
   "id": "searching-mapping",
   "metadata": {},
   "outputs": [],
   "source": [
    "import kensu_dam.pandas as pd\n",
    "from kensu_dam.sklearn.linear_model import LogisticRegression"
   ]
  },
  {
   "cell_type": "code",
   "execution_count": 5,
   "id": "coordinated-cooking",
   "metadata": {},
   "outputs": [],
   "source": [
    "data_url = 'https://raw.githubusercontent.com/datasciencedojo/datasets/master/titanic.csv'"
   ]
  },
  {
   "cell_type": "code",
   "execution_count": 6,
   "id": "resident-jersey",
   "metadata": {},
   "outputs": [],
   "source": [
    "from kensu_dam.sklearn.model_selection import train_test_split\n",
    "df = pd.read_csv(data_url)"
   ]
  },
  {
   "cell_type": "code",
   "execution_count": 7,
   "id": "computational-session",
   "metadata": {},
   "outputs": [],
   "source": [
    "X_train, X_test, y_train, y_test = train_test_split(df, df['Survived'], test_size=0.33, random_state=42)"
   ]
  },
  {
   "cell_type": "code",
   "execution_count": 8,
   "id": "surprised-wallet",
   "metadata": {},
   "outputs": [
    {
     "data": {
      "text/html": [
       "<div>\n",
       "<style scoped>\n",
       "    .dataframe tbody tr th:only-of-type {\n",
       "        vertical-align: middle;\n",
       "    }\n",
       "\n",
       "    .dataframe tbody tr th {\n",
       "        vertical-align: top;\n",
       "    }\n",
       "\n",
       "    .dataframe thead th {\n",
       "        text-align: right;\n",
       "    }\n",
       "</style>\n",
       "<table border=\"1\" class=\"dataframe\">\n",
       "  <thead>\n",
       "    <tr style=\"text-align: right;\">\n",
       "      <th></th>\n",
       "      <th>PassengerId</th>\n",
       "      <th>Survived</th>\n",
       "      <th>Pclass</th>\n",
       "      <th>Name</th>\n",
       "      <th>Sex</th>\n",
       "      <th>Age</th>\n",
       "      <th>SibSp</th>\n",
       "      <th>Parch</th>\n",
       "      <th>Ticket</th>\n",
       "      <th>Fare</th>\n",
       "      <th>Cabin</th>\n",
       "      <th>Embarked</th>\n",
       "    </tr>\n",
       "  </thead>\n",
       "  <tbody>\n",
       "    <tr>\n",
       "      <th>6</th>\n",
       "      <td>7</td>\n",
       "      <td>0</td>\n",
       "      <td>1</td>\n",
       "      <td>McCarthy, Mr. Timothy J</td>\n",
       "      <td>male</td>\n",
       "      <td>54.0</td>\n",
       "      <td>0</td>\n",
       "      <td>0</td>\n",
       "      <td>17463</td>\n",
       "      <td>51.8625</td>\n",
       "      <td>E46</td>\n",
       "      <td>S</td>\n",
       "    </tr>\n",
       "    <tr>\n",
       "      <th>718</th>\n",
       "      <td>719</td>\n",
       "      <td>0</td>\n",
       "      <td>3</td>\n",
       "      <td>McEvoy, Mr. Michael</td>\n",
       "      <td>male</td>\n",
       "      <td>NaN</td>\n",
       "      <td>0</td>\n",
       "      <td>0</td>\n",
       "      <td>36568</td>\n",
       "      <td>15.5000</td>\n",
       "      <td>NaN</td>\n",
       "      <td>Q</td>\n",
       "    </tr>\n",
       "    <tr>\n",
       "      <th>685</th>\n",
       "      <td>686</td>\n",
       "      <td>0</td>\n",
       "      <td>2</td>\n",
       "      <td>Laroche, Mr. Joseph Philippe Lemercier</td>\n",
       "      <td>male</td>\n",
       "      <td>25.0</td>\n",
       "      <td>1</td>\n",
       "      <td>2</td>\n",
       "      <td>SC/Paris 2123</td>\n",
       "      <td>41.5792</td>\n",
       "      <td>NaN</td>\n",
       "      <td>C</td>\n",
       "    </tr>\n",
       "    <tr>\n",
       "      <th>73</th>\n",
       "      <td>74</td>\n",
       "      <td>0</td>\n",
       "      <td>3</td>\n",
       "      <td>Chronopoulos, Mr. Apostolos</td>\n",
       "      <td>male</td>\n",
       "      <td>26.0</td>\n",
       "      <td>1</td>\n",
       "      <td>0</td>\n",
       "      <td>2680</td>\n",
       "      <td>14.4542</td>\n",
       "      <td>NaN</td>\n",
       "      <td>C</td>\n",
       "    </tr>\n",
       "    <tr>\n",
       "      <th>882</th>\n",
       "      <td>883</td>\n",
       "      <td>0</td>\n",
       "      <td>3</td>\n",
       "      <td>Dahlberg, Miss. Gerda Ulrika</td>\n",
       "      <td>female</td>\n",
       "      <td>22.0</td>\n",
       "      <td>0</td>\n",
       "      <td>0</td>\n",
       "      <td>7552</td>\n",
       "      <td>10.5167</td>\n",
       "      <td>NaN</td>\n",
       "      <td>S</td>\n",
       "    </tr>\n",
       "  </tbody>\n",
       "</table>\n",
       "</div>"
      ],
      "text/plain": [
       "     PassengerId  Survived  Pclass                                    Name  \\\n",
       "6              7         0       1                 McCarthy, Mr. Timothy J   \n",
       "718          719         0       3                     McEvoy, Mr. Michael   \n",
       "685          686         0       2  Laroche, Mr. Joseph Philippe Lemercier   \n",
       "73            74         0       3             Chronopoulos, Mr. Apostolos   \n",
       "882          883         0       3            Dahlberg, Miss. Gerda Ulrika   \n",
       "\n",
       "        Sex   Age  SibSp  Parch         Ticket     Fare Cabin Embarked  \n",
       "6      male  54.0      0      0          17463  51.8625   E46        S  \n",
       "718    male   NaN      0      0          36568  15.5000   NaN        Q  \n",
       "685    male  25.0      1      2  SC/Paris 2123  41.5792   NaN        C  \n",
       "73     male  26.0      1      0           2680  14.4542   NaN        C  \n",
       "882  female  22.0      0      0           7552  10.5167   NaN        S  "
      ]
     },
     "execution_count": 8,
     "metadata": {},
     "output_type": "execute_result"
    }
   ],
   "source": [
    "X_train.head()"
   ]
  },
  {
   "cell_type": "markdown",
   "id": "former-impression",
   "metadata": {},
   "source": [
    "- Pclass: passenger class\n",
    "- Parch: parents and children"
   ]
  },
  {
   "cell_type": "code",
   "execution_count": 9,
   "id": "boolean-bristol",
   "metadata": {},
   "outputs": [],
   "source": [
    "feature_cols = ['Pclass', 'Fare']"
   ]
  },
  {
   "cell_type": "code",
   "execution_count": 10,
   "id": "traditional-wrist",
   "metadata": {},
   "outputs": [],
   "source": [
    "# you want all rows, and the feature_cols' columns\n",
    "X_train = X_train.loc[:, feature_cols]"
   ]
  },
  {
   "cell_type": "code",
   "execution_count": 11,
   "id": "comparable-corrections",
   "metadata": {},
   "outputs": [
    {
     "data": {
      "text/plain": [
       "(596, 2)"
      ]
     },
     "execution_count": 11,
     "metadata": {},
     "output_type": "execute_result"
    }
   ],
   "source": [
    "X_train.shape"
   ]
  },
  {
   "cell_type": "code",
   "execution_count": 12,
   "id": "missing-support",
   "metadata": {},
   "outputs": [
    {
     "data": {
      "text/plain": [
       "(596,)"
      ]
     },
     "execution_count": 12,
     "metadata": {},
     "output_type": "execute_result"
    }
   ],
   "source": [
    "y_train.shape"
   ]
  },
  {
   "cell_type": "markdown",
   "id": "planned-occasions",
   "metadata": {},
   "source": [
    "Instanciate the model"
   ]
  },
  {
   "cell_type": "code",
   "execution_count": 13,
   "id": "about-credits",
   "metadata": {},
   "outputs": [],
   "source": [
    "logreg = LogisticRegression()"
   ]
  },
  {
   "cell_type": "markdown",
   "id": "changing-monkey",
   "metadata": {},
   "source": [
    "Training it"
   ]
  },
  {
   "cell_type": "code",
   "execution_count": 14,
   "id": "negative-equity",
   "metadata": {},
   "outputs": [
    {
     "data": {
      "text/plain": [
       "LogisticRegression()"
      ]
     },
     "execution_count": 14,
     "metadata": {},
     "output_type": "execute_result"
    }
   ],
   "source": [
    "logreg.fit(X_train, y_train)"
   ]
  },
  {
   "cell_type": "markdown",
   "id": "private-disco",
   "metadata": {},
   "source": [
    "We can branch out, and save the training spit set"
   ]
  },
  {
   "cell_type": "code",
   "execution_count": 15,
   "id": "refined-warren",
   "metadata": {},
   "outputs": [],
   "source": [
    "X_train.to_csv('X_train.set')"
   ]
  },
  {
   "cell_type": "markdown",
   "id": "central-beach",
   "metadata": {},
   "source": [
    "## Looking in the logs"
   ]
  },
  {
   "cell_type": "code",
   "execution_count": 16,
   "id": "boolean-calcium",
   "metadata": {},
   "outputs": [],
   "source": [
    "logs = read_scikit_logs()"
   ]
  },
  {
   "cell_type": "code",
   "execution_count": 17,
   "id": "moderate-kernel",
   "metadata": {},
   "outputs": [
    {
     "data": {
      "text/plain": [
       "46"
      ]
     },
     "execution_count": 17,
     "metadata": {},
     "output_type": "execute_result"
    }
   ],
   "source": [
    "len(logs)"
   ]
  },
  {
   "cell_type": "code",
   "execution_count": 18,
   "id": "collective-accuracy",
   "metadata": {},
   "outputs": [],
   "source": [
    "datasources = list(filter(lambda x: x[\"entity\"]==\"DATA_SOURCE\", logs))"
   ]
  },
  {
   "cell_type": "code",
   "execution_count": 19,
   "id": "wrong-portfolio",
   "metadata": {},
   "outputs": [
    {
     "data": {
      "text/plain": [
       "'in-mem://model/c4131dc5506138bb7d076ba0321bd307eb81f8dec733a3214030e5c111688f08/in-mem-transformation'"
      ]
     },
     "execution_count": 19,
     "metadata": {},
     "output_type": "execute_result"
    }
   ],
   "source": [
    "list(filter(lambda x: \"model\" in x[\"jsonPayload\"][\"pk\"][\"location\"],datasources))[0][\"jsonPayload\"][\"pk\"][\"location\"]"
   ]
  },
  {
   "cell_type": "code",
   "execution_count": 20,
   "id": "unknown-display",
   "metadata": {},
   "outputs": [
    {
     "data": {
      "text/plain": [
       "{'pk': {'name': 'SkLearn.LogisticRegression'}}"
      ]
     },
     "execution_count": 20,
     "metadata": {},
     "output_type": "execute_result"
    }
   ],
   "source": [
    "list(filter(lambda x: x[\"entity\"]==\"MODEL\", logs))[0][\"jsonPayload\"]"
   ]
  },
  {
   "cell_type": "code",
   "execution_count": 21,
   "id": "ancient-bloom",
   "metadata": {},
   "outputs": [
    {
     "data": {
      "text/plain": [
       "{'pk': {'modelRef': {'byGUID': 'k-184f2b402bbfef845b1f202c6936de6af75aea7063a405ed844f8d30b474240f'},\n",
       "  'processLineageRef': {'byGUID': 'k-f07a86f5d60eb791cb6b5669dab0daaa03378a6970d528cb0a830f7efecca011'}}}"
      ]
     },
     "execution_count": 21,
     "metadata": {},
     "output_type": "execute_result"
    }
   ],
   "source": [
    "list(filter(lambda x: x[\"entity\"]==\"MODEL_TRAINING\", logs))[0][\"jsonPayload\"]"
   ]
  },
  {
   "cell_type": "code",
   "execution_count": 22,
   "id": "given-resident",
   "metadata": {},
   "outputs": [
    {
     "data": {
      "text/plain": [
       "{'pk': {'modelTrainingRef': {'byGUID': 'k-ee00c846f0701a45c690852914ad6b9e27bda2ec47fcd3df0532ff4646ac7acf'},\n",
       "  'lineageRunRef': {'byGUID': 'k-76675ae5d108bac0a4461f976b6724cbc5a23276e30bbfa4df060c6c4186d240'},\n",
       "  'storedInSchemaRef': {'byGUID': 'k-1d68981ba39d8010f6ff78050dffa5dacbcd0fa2f63dc0b8136890abb62be2a2'}},\n",
       " 'metrics': {'train.score': 0.6694630872483222,\n",
       "  'train.explained_variance': -0.7649714790712623,\n",
       "  'train.neg_mean_absolute_error': 0.33053691275167785,\n",
       "  'train.neg_mean_squared_error': 0.33053691275167785,\n",
       "  'train.neg_mean_squared_log_error': 0.1588074559427612,\n",
       "  'train.neg_median_absolute_error': 0.0,\n",
       "  'train.r2': -0.8865911464609948},\n",
       " 'hyperParamsAsJson': '{\"C\": 1.0, \"class_weight\": null, \"dual\": false, \"fit_intercept\": true, \"intercept_scaling\": 1, \"l1_ratio\": null, \"max_iter\": 100, \"multi_class\": \"auto\", \"n_jobs\": null, \"penalty\": \"l2\", \"random_state\": null, \"solver\": \"lbfgs\", \"tol\": 0.0001, \"verbose\": 0, \"warm_start\": false}'}"
      ]
     },
     "execution_count": 22,
     "metadata": {},
     "output_type": "execute_result"
    }
   ],
   "source": [
    "metrics = list(filter(lambda x: x[\"entity\"]==\"MODEL_METRICS\", logs))[0][\"jsonPayload\"]\n",
    "metrics"
   ]
  },
  {
   "cell_type": "code",
   "execution_count": null,
   "id": "female-bronze",
   "metadata": {},
   "outputs": [],
   "source": [
    "metrics[\"metrics\"]"
   ]
  },
  {
   "cell_type": "code",
   "execution_count": null,
   "id": "ruled-officer",
   "metadata": {},
   "outputs": [],
   "source": [
    "json.loads(metrics[\"hyperParamsAsJson\"])"
   ]
  },
  {
   "cell_type": "markdown",
   "id": "chief-prompt",
   "metadata": {},
   "source": [
    "## Strategy"
   ]
  },
  {
   "cell_type": "markdown",
   "id": "small-darwin",
   "metadata": {},
   "source": [
    "Same as per `pandas`, using interceptors:\n",
    "* https://github.com/kensuio/dam-client-python/blob/ft%2Fscikit-learn/kensu_dam/sklearn/linear_model.py#L10\n",
    "* https://github.com/kensuio/dam-client-python/blob/ft%2Fscikit-learn/kensu_dam/sklearn/extractor.py#L80"
   ]
  },
  {
   "cell_type": "markdown",
   "id": "laden-genesis",
   "metadata": {},
   "source": [
    "## Other strategies\n",
    "\n",
    "* Using API (e.g. Tableau Lineage API)\n",
    "* Using OpenTracing/OpenTelemetry (rather than graph based entity logging): \n",
    "    * JAX-RS: https://github.com/kensuio-oss/jaxrs-sample/blob/master/src/main/java/io/kensu/collector/interceptors/KensuTracingInterceptorFeature.java#L74\n",
    "    * JDBC:\n",
    "        * driver: https://github.com/kensuio-oss/java-jdbc/blob/cleaning/src/main/java/io/opentracing/contrib/jdbc/TracingDriver.java#L37\n",
    "        * stats: https://github.com/kensuio-oss/java-jdbc/blob/cleaning/src/main/java/io/opentracing/contrib/jdbc/TracingResultSet.java#L288"
   ]
  }
 ],
 "metadata": {
  "kernelspec": {
   "display_name": "Python 3",
   "language": "python",
   "name": "python3"
  },
  "language_info": {
   "codemirror_mode": {
    "name": "ipython",
    "version": 3
   },
   "file_extension": ".py",
   "mimetype": "text/x-python",
   "name": "python",
   "nbconvert_exporter": "python",
   "pygments_lexer": "ipython3",
   "version": "3.7.10"
  }
 },
 "nbformat": 4,
 "nbformat_minor": 5
}
